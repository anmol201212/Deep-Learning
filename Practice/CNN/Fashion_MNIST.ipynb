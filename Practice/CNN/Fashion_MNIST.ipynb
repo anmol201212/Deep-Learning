{
 "cells": [
  {
   "cell_type": "code",
   "execution_count": 3,
   "metadata": {},
   "outputs": [],
   "source": [
    "import pandas as pd\n",
    "import numpy as np\n",
    "import matplotlib.pyplot as plt\n",
    "from keras.models import Sequential\n",
    "from keras.layers import Input,Convolution2D,MaxPooling2D,Flatten,Dense,Dropout\n",
    "from tensorflow.python.keras.utils import np_utils\n",
    "import tensorflow"
   ]
  },
  {
   "cell_type": "code",
   "execution_count": 7,
   "metadata": {},
   "outputs": [
    {
     "name": "stdout",
     "output_type": "stream",
     "text": [
      "(10000, 784) (10000,)\n"
     ]
    }
   ],
   "source": [
    "# Data Preparation\n",
    "x = pd.read_csv('./data/fashion-mnist.csv')\n",
    "X_ = np.array(x)\n",
    "X = X_[:,1:]\n",
    "X = X/255.0\n",
    "y = X_[:,0]\n",
    "print(X.shape,y.shape)"
   ]
  },
  {
   "cell_type": "code",
   "execution_count": 9,
   "metadata": {},
   "outputs": [
    {
     "name": "stdout",
     "output_type": "stream",
     "text": [
      "(10000, 28, 28, 1) (10000, 10)\n"
     ]
    }
   ],
   "source": [
    "X_train = X.reshape((-1,28,28,1))\n",
    "Y_train = np_utils.to_categorical(y)\n",
    "\n",
    "print(X_train.shape,Y_train.shape)"
   ]
  },
  {
   "cell_type": "code",
   "execution_count": 11,
   "metadata": {},
   "outputs": [],
   "source": [
    "# for i in range(10):\n",
    "#     plt.imshow(X_train[i],cmap=\"gray\")\n",
    "#     plt.show()"
   ]
  },
  {
   "cell_type": "markdown",
   "metadata": {},
   "source": [
    "CNN Model\n"
   ]
  },
  {
   "cell_type": "code",
   "execution_count": 12,
   "metadata": {},
   "outputs": [
    {
     "name": "stdout",
     "output_type": "stream",
     "text": [
      "Model: \"sequential\"\n",
      "_________________________________________________________________\n",
      " Layer (type)                Output Shape              Param #   \n",
      "=================================================================\n",
      " conv2d (Conv2D)             (None, 26, 26, 32)        320       \n",
      "                                                                 \n",
      " conv2d_1 (Conv2D)           (None, 24, 24, 64)        18496     \n",
      "                                                                 \n",
      " dropout (Dropout)           (None, 24, 24, 64)        0         \n",
      "                                                                 \n",
      " max_pooling2d (MaxPooling2  (None, 12, 12, 64)        0         \n",
      " D)                                                              \n",
      "                                                                 \n",
      " conv2d_2 (Conv2D)           (None, 8, 8, 32)          51232     \n",
      "                                                                 \n",
      " conv2d_3 (Conv2D)           (None, 4, 4, 8)           6408      \n",
      "                                                                 \n",
      " flatten (Flatten)           (None, 128)               0         \n",
      "                                                                 \n",
      " dense (Dense)               (None, 10)                1290      \n",
      "                                                                 \n",
      "=================================================================\n",
      "Total params: 77746 (303.70 KB)\n",
      "Trainable params: 77746 (303.70 KB)\n",
      "Non-trainable params: 0 (0.00 Byte)\n",
      "_________________________________________________________________\n"
     ]
    }
   ],
   "source": [
    "model = Sequential()\n",
    "model.add(Convolution2D(32,(3,3),activation=\"relu\",input_shape=(28,28,1)))\n",
    "model.add(Convolution2D(64,(3,3),activation=\"relu\"))\n",
    "model.add(Dropout(0.25))\n",
    "model.add(MaxPooling2D(2,2))\n",
    "model.add(Convolution2D(32,(5,5),activation='relu'))\n",
    "model.add(Convolution2D(8,(5,5),activation='relu'))\n",
    "model.add(Flatten())\n",
    "model.add(Dense(10,activation='softmax'))\n",
    "model.summary()"
   ]
  },
  {
   "cell_type": "code",
   "execution_count": 15,
   "metadata": {},
   "outputs": [],
   "source": [
    "model.compile(loss=\"categorical_crossentropy\",optimizer=\"adam\",metrics=[\"accuracy\"])"
   ]
  },
  {
   "cell_type": "code",
   "execution_count": 16,
   "metadata": {},
   "outputs": [
    {
     "name": "stdout",
     "output_type": "stream",
     "text": [
      "Epoch 1/20\n",
      "32/32 [==============================] - 17s 491ms/step - loss: 1.6860 - accuracy: 0.3800 - val_loss: 1.0817 - val_accuracy: 0.6090\n",
      "Epoch 2/20\n",
      "32/32 [==============================] - 17s 525ms/step - loss: 0.8186 - accuracy: 0.7045 - val_loss: 0.7272 - val_accuracy: 0.7465\n",
      "Epoch 3/20\n",
      "32/32 [==============================] - 17s 542ms/step - loss: 0.6538 - accuracy: 0.7550 - val_loss: 0.6308 - val_accuracy: 0.7740\n",
      "Epoch 4/20\n",
      "32/32 [==============================] - 17s 523ms/step - loss: 0.5886 - accuracy: 0.7825 - val_loss: 0.5885 - val_accuracy: 0.7885\n",
      "Epoch 5/20\n",
      "32/32 [==============================] - 17s 519ms/step - loss: 0.5329 - accuracy: 0.8016 - val_loss: 0.5390 - val_accuracy: 0.8100\n",
      "Epoch 6/20\n",
      "32/32 [==============================] - 32s 933ms/step - loss: 0.4857 - accuracy: 0.8238 - val_loss: 0.5059 - val_accuracy: 0.8235\n",
      "Epoch 7/20\n",
      "32/32 [==============================] - 18s 557ms/step - loss: 0.4652 - accuracy: 0.8288 - val_loss: 0.4918 - val_accuracy: 0.8250\n",
      "Epoch 8/20\n",
      "32/32 [==============================] - 25s 779ms/step - loss: 0.4347 - accuracy: 0.8435 - val_loss: 0.4535 - val_accuracy: 0.8500\n",
      "Epoch 9/20\n",
      "32/32 [==============================] - 32s 967ms/step - loss: 0.4038 - accuracy: 0.8545 - val_loss: 0.4259 - val_accuracy: 0.8510\n",
      "Epoch 10/20\n",
      "32/32 [==============================] - 15s 462ms/step - loss: 0.3918 - accuracy: 0.8580 - val_loss: 0.4207 - val_accuracy: 0.8625\n",
      "Epoch 11/20\n",
      "32/32 [==============================] - 31s 992ms/step - loss: 0.3838 - accuracy: 0.8644 - val_loss: 0.4396 - val_accuracy: 0.8450\n",
      "Epoch 12/20\n",
      "32/32 [==============================] - 22s 695ms/step - loss: 0.3567 - accuracy: 0.8726 - val_loss: 0.4058 - val_accuracy: 0.8595\n",
      "Epoch 13/20\n",
      "32/32 [==============================] - 23s 714ms/step - loss: 0.3463 - accuracy: 0.8724 - val_loss: 0.3999 - val_accuracy: 0.8640\n",
      "Epoch 14/20\n",
      "32/32 [==============================] - 24s 747ms/step - loss: 0.3334 - accuracy: 0.8805 - val_loss: 0.3878 - val_accuracy: 0.8665\n",
      "Epoch 15/20\n",
      "32/32 [==============================] - 19s 586ms/step - loss: 0.3199 - accuracy: 0.8848 - val_loss: 0.3904 - val_accuracy: 0.8645\n",
      "Epoch 16/20\n",
      "32/32 [==============================] - 31s 910ms/step - loss: 0.3109 - accuracy: 0.8854 - val_loss: 0.4022 - val_accuracy: 0.8650\n",
      "Epoch 17/20\n",
      "32/32 [==============================] - 17s 466ms/step - loss: 0.3061 - accuracy: 0.8894 - val_loss: 0.3800 - val_accuracy: 0.8685\n",
      "Epoch 18/20\n",
      "32/32 [==============================] - 32s 1s/step - loss: 0.2828 - accuracy: 0.8953 - val_loss: 0.3683 - val_accuracy: 0.8810\n",
      "Epoch 19/20\n",
      "32/32 [==============================] - 22s 704ms/step - loss: 0.2757 - accuracy: 0.9013 - val_loss: 0.3725 - val_accuracy: 0.8630\n",
      "Epoch 20/20\n",
      "32/32 [==============================] - 23s 731ms/step - loss: 0.2679 - accuracy: 0.9026 - val_loss: 0.3593 - val_accuracy: 0.8850\n"
     ]
    }
   ],
   "source": [
    "hist = model.fit(X_train,Y_train,epochs=20,shuffle=True,batch_size=256,validation_split=0.20)"
   ]
  },
  {
   "cell_type": "code",
   "execution_count": 18,
   "metadata": {},
   "outputs": [
    {
     "data": {
      "image/png": "[encoded data removed]",
      "text/plain": [
       "<Figure size 640x480 with 1 Axes>"
      ]
     },
     "metadata": {},
     "output_type": "display_data"
    }
   ],
   "source": [
    "plt.figure(0)\n",
    "plt.plot(hist.history['loss'],'g')\n",
    "plt.plot(hist.history['val_loss'],'b')\n",
    "\n",
    "plt.plot(hist.history['accuracy'],'r')\n",
    "plt.plot(hist.history['val_accuracy'],'black')\n",
    "plt.show()"
   ]
  },
  {
   "cell_type": "code",
   "execution_count": null,
   "metadata": {},
   "outputs": [],
   "source": []
  }
 ],
 "metadata": {
  "kernelspec": {
   "display_name": "Python 3",
   "language": "python",
   "name": "python3"
  },
  "language_info": {
   "codemirror_mode": {
    "name": "ipython",
    "version": 3
   },
   "file_extension": ".py",
   "mimetype": "text/x-python",
   "name": "python",
   "nbconvert_exporter": "python",
   "pygments_lexer": "ipython3",
   "version": "3.10.0"
  }
 },
 "nbformat": 4,
 "nbformat_minor": 2
}
